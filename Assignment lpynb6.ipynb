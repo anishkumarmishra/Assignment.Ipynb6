{
  "nbformat": 4,
  "nbformat_minor": 0,
  "metadata": {
    "colab": {
      "provenance": []
    },
    "kernelspec": {
      "name": "python3",
      "display_name": "Python 3"
    },
    "language_info": {
      "name": "python"
    }
  },
  "cells": [
    {
      "cell_type": "markdown",
      "source": [
        "###1. What are escape characters, and how do you use them?\n",
        "\n",
        "#### **Answer-** To insert characters that are illegal in a string, use an escape character.An escape character is a backslash \\ followed by the character you want to insert."
      ],
      "metadata": {
        "id": "Pqx9EPu3bg4s"
      }
    },
    {
      "cell_type": "code",
      "source": [
        "txt = \"my name is anish arihant \\\"I am from\\\"bihar.\"\n",
        "print(txt)"
      ],
      "metadata": {
        "colab": {
          "base_uri": "https://localhost:8080/"
        },
        "id": "Dh7vRnk0b_7c",
        "outputId": "8006459d-438c-46f3-ea75-f1c237d196a1"
      },
      "execution_count": null,
      "outputs": [
        {
          "output_type": "stream",
          "name": "stdout",
          "text": [
            "my name is anish arihant \"I am from\"bihar.\n"
          ]
        }
      ]
    },
    {
      "cell_type": "markdown",
      "source": [
        "###2. What do the escape characters n and t stand for?\n",
        "####**Answer** :-  \\n (New line) – We use it to shift the cursor control to the new line. \\t (Horizontal tab) – We use it to shift the cursor to a couple of spaces to the right in the same line."
      ],
      "metadata": {
        "id": "YZgLYZ34ho-A"
      }
    },
    {
      "cell_type": "markdown",
      "source": [
        "###3. What is the way to include backslash characters in a string?\n",
        "####**Answer** :- The \\\\ escape character will represent the backslash character in a string"
      ],
      "metadata": {
        "id": "0TvNqLyplasb"
      }
    },
    {
      "cell_type": "markdown",
      "source": [
        "###4. The string &quot;Howl&#39;s Moving Castle&quot; is a correct value. Why isn&#39;t the single quote character in the word Howl&#39;s not escaped a problem?\n",
        "####**Answer** :- The string \"Howl's Moving Castle\" escaped the problem because it is wrapped inside double quotes. if its wrapped inside single quotes then we have to use escape character \\' to show single quote in the final output"
      ],
      "metadata": {
        "id": "SBOU1MDS48v5"
      }
    },
    {
      "cell_type": "code",
      "source": [
        "\"Howl\\'s Moving Castle\""
      ],
      "metadata": {
        "colab": {
          "base_uri": "https://localhost:8080/",
          "height": 35
        },
        "id": "7tUUIC3p59PY",
        "outputId": "416a7830-ac1c-4224-d508-c46d61d673ca"
      },
      "execution_count": null,
      "outputs": [
        {
          "output_type": "execute_result",
          "data": {
            "text/plain": [
              "\"Howl's Moving Castle\""
            ],
            "application/vnd.google.colaboratory.intrinsic+json": {
              "type": "string"
            }
          },
          "metadata": {},
          "execution_count": 16
        }
      ]
    },
    {
      "cell_type": "markdown",
      "source": [
        "###5.How do you write a string of newlines if you don't want to use the n character?\n",
        "\n",
        "####**Answer**:- Multiline string allow you to use newlines in string without the \\n escape character"
      ],
      "metadata": {
        "id": "pEwsT90-7HSb"
      }
    },
    {
      "cell_type": "markdown",
      "source": [
        "###6. What are the values of the given expressions?\n",
        "\n",
        "&#39;Hello, world!&#39;[1]\n",
        "\n",
        "&#39;Hello, world!&#39;[0:5]\n",
        "\n",
        "&#39;Hello, world!&#39;[:5]\n",
        "\n",
        "&#39;Hello, world!&#39;[3:]"
      ],
      "metadata": {
        "id": "OSPMNCSQ7ZM0"
      }
    },
    {
      "cell_type": "code",
      "source": [
        "#Ans: The values for the given expressions are:\n",
        "'Hello, world!'[1]"
      ],
      "metadata": {
        "colab": {
          "base_uri": "https://localhost:8080/",
          "height": 35
        },
        "id": "r-kNTuJ-CaCf",
        "outputId": "7b6e504d-129b-4e5f-a71b-6116c54b5780"
      },
      "execution_count": 1,
      "outputs": [
        {
          "output_type": "execute_result",
          "data": {
            "text/plain": [
              "'e'"
            ],
            "application/vnd.google.colaboratory.intrinsic+json": {
              "type": "string"
            }
          },
          "metadata": {},
          "execution_count": 1
        }
      ]
    },
    {
      "cell_type": "code",
      "source": [
        "'Hello, world!'[0:5]"
      ],
      "metadata": {
        "colab": {
          "base_uri": "https://localhost:8080/",
          "height": 35
        },
        "id": "qZjiD_gK4Tpf",
        "outputId": "81f81210-b177-4930-e45b-4679459d7d67"
      },
      "execution_count": 2,
      "outputs": [
        {
          "output_type": "execute_result",
          "data": {
            "text/plain": [
              "'Hello'"
            ],
            "application/vnd.google.colaboratory.intrinsic+json": {
              "type": "string"
            }
          },
          "metadata": {},
          "execution_count": 2
        }
      ]
    },
    {
      "cell_type": "code",
      "source": [
        "'Hello, world!'[:5]"
      ],
      "metadata": {
        "colab": {
          "base_uri": "https://localhost:8080/",
          "height": 35
        },
        "id": "RPPkK5En4bWh",
        "outputId": "6ec799f0-4535-4ab5-e75d-be2732517de6"
      },
      "execution_count": 3,
      "outputs": [
        {
          "output_type": "execute_result",
          "data": {
            "text/plain": [
              "'Hello'"
            ],
            "application/vnd.google.colaboratory.intrinsic+json": {
              "type": "string"
            }
          },
          "metadata": {},
          "execution_count": 3
        }
      ]
    },
    {
      "cell_type": "code",
      "source": [
        "'Hello, world!'[3:]"
      ],
      "metadata": {
        "colab": {
          "base_uri": "https://localhost:8080/",
          "height": 35
        },
        "id": "BKAgj4mz4hzd",
        "outputId": "9779a401-eb58-4020-cdec-4c5d4466099f"
      },
      "execution_count": 4,
      "outputs": [
        {
          "output_type": "execute_result",
          "data": {
            "text/plain": [
              "'lo, world!'"
            ],
            "application/vnd.google.colaboratory.intrinsic+json": {
              "type": "string"
            }
          },
          "metadata": {},
          "execution_count": 4
        }
      ]
    },
    {
      "cell_type": "markdown",
      "source": [
        "###7. What are the values of the following expressions?\n",
        "&#39;Hello&#39;.upper()\n",
        "\n",
        "&#39;Hello&#39;.upper().isupper()\n",
        "\n",
        "&#39;Hello&#39;.upper().lower()"
      ],
      "metadata": {
        "id": "UTqDs3yO4oVW"
      }
    },
    {
      "cell_type": "code",
      "source": [
        "'Hello'.upper()"
      ],
      "metadata": {
        "colab": {
          "base_uri": "https://localhost:8080/",
          "height": 35
        },
        "id": "pcxicqLU5aF2",
        "outputId": "a1c94304-a99e-4772-e080-a53db3748460"
      },
      "execution_count": 5,
      "outputs": [
        {
          "output_type": "execute_result",
          "data": {
            "text/plain": [
              "'HELLO'"
            ],
            "application/vnd.google.colaboratory.intrinsic+json": {
              "type": "string"
            }
          },
          "metadata": {},
          "execution_count": 5
        }
      ]
    },
    {
      "cell_type": "code",
      "source": [
        "'Hello'.upper().isupper()"
      ],
      "metadata": {
        "colab": {
          "base_uri": "https://localhost:8080/"
        },
        "id": "pm5oVvzQ5ecL",
        "outputId": "454c7c8e-6e77-41df-9c13-30df32b65090"
      },
      "execution_count": 6,
      "outputs": [
        {
          "output_type": "execute_result",
          "data": {
            "text/plain": [
              "True"
            ]
          },
          "metadata": {},
          "execution_count": 6
        }
      ]
    },
    {
      "cell_type": "code",
      "source": [
        "'Hello'.upper().lower()"
      ],
      "metadata": {
        "colab": {
          "base_uri": "https://localhost:8080/",
          "height": 35
        },
        "id": "q-5ymj5r5k6I",
        "outputId": "23ca6799-a2b1-4c91-b75e-a8466ceacd30"
      },
      "execution_count": 7,
      "outputs": [
        {
          "output_type": "execute_result",
          "data": {
            "text/plain": [
              "'hello'"
            ],
            "application/vnd.google.colaboratory.intrinsic+json": {
              "type": "string"
            }
          },
          "metadata": {},
          "execution_count": 7
        }
      ]
    },
    {
      "cell_type": "markdown",
      "source": [
        "###8. What are the values of the following expressions?\n",
        "\n",
        "&#39;Remember, remember, the fifth of July.&#39;.split()\n",
        "\n",
        "&#39;-&#39;.join(&#39;There can only one.&#39;.split())"
      ],
      "metadata": {
        "id": "RDr7gJe-5v6Q"
      }
    },
    {
      "cell_type": "code",
      "source": [
        "###Answer :-\n",
        "'I can do.'.split()"
      ],
      "metadata": {
        "colab": {
          "base_uri": "https://localhost:8080/"
        },
        "id": "mpI53vMK6e0K",
        "outputId": "2333ba46-eb7a-41ad-ecb1-8116f210d081"
      },
      "execution_count": 11,
      "outputs": [
        {
          "output_type": "execute_result",
          "data": {
            "text/plain": [
              "['I', 'can', 'do.']"
            ]
          },
          "metadata": {},
          "execution_count": 11
        }
      ]
    },
    {
      "cell_type": "code",
      "source": [
        "'-'.join('there can only one'.split())"
      ],
      "metadata": {
        "colab": {
          "base_uri": "https://localhost:8080/",
          "height": 35
        },
        "id": "7y4d2OnP6vOd",
        "outputId": "549b7122-0f5d-4dd1-f630-436126cac999"
      },
      "execution_count": 15,
      "outputs": [
        {
          "output_type": "execute_result",
          "data": {
            "text/plain": [
              "'there-can-only-one'"
            ],
            "application/vnd.google.colaboratory.intrinsic+json": {
              "type": "string"
            }
          },
          "metadata": {},
          "execution_count": 15
        }
      ]
    },
    {
      "cell_type": "markdown",
      "source": [
        "###9. What are the methods for right-justifying, left-justifying, and centering a string?\n",
        "#### **Answer** :- The rjust(),ljust(),center() string methods, respectively"
      ],
      "metadata": {
        "id": "CNnb-8F-8yAu"
      }
    },
    {
      "cell_type": "markdown",
      "source": [
        "###10.What is the best way to remove whitespace characters from the start or end ?\n",
        "#### **Answer** :- The lstrip() and rstrip() methods remove whitesapce characters from the left and right ends of a string respectively"
      ],
      "metadata": {
        "id": "f5QKjjh99QH7"
      }
    }
  ]
}